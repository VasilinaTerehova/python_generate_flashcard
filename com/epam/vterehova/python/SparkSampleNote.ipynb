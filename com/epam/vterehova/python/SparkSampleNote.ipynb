{
 "cells": [
  {
   "cell_type": "code",
   "execution_count": 2,
   "metadata": {
    "collapsed": true
   },
   "outputs": [
    {
     "name": "stdout",
     "output_type": "stream",
     "text": [
      "6\n"
     ]
    }
   ],
   "source": [
    "import findspark\n",
    "import glob\n",
    "import os\n",
    "#findspark.init()\n",
    "#spark_python=\"e:\\\\big-data\\\\spark\\\\spark-2.2.0-bin-hadoop2.7\\\\python\"\n",
    "#print(os.path.join(spark_python, 'lib', 'py4j-*.zip'))\n",
    "#print(glob.glob(os.path.join(spark_python, 'lib', 'py4j-*.zip')))\n",
    "findspark.init(\"e:\\\\big-data\\\\spark\\\\spark-2.2.0-bin-hadoop2.7\")\n",
    "\n",
    "from pyspark.sql import SparkSession\n",
    "from pyspark import *\n",
    "spark = SparkSession.builder.appName(\"SimpleApp\").getOrCreate()\n",
    "textFile = spark.read.text(\"D:\\\\README.txt\")\n",
    "print(textFile.count())"
   ]
  },
  {
   "cell_type": "code",
   "execution_count": 1,
   "metadata": {},
   "outputs": [],
   "source": [
    "#df=df.DataFrame(data=np.array)"
   ]
  },
  {
   "cell_type": "code",
   "execution_count": 2,
   "metadata": {},
   "outputs": [],
   "source": []
  },
  {
   "cell_type": "code",
   "execution_count": null,
   "metadata": {},
   "outputs": [],
   "source": []
  }
 ],
 "metadata": {
  "kernelspec": {
   "display_name": "Python 2",
   "language": "python",
   "name": "python2"
  },
  "language_info": {
   "codemirror_mode": {
    "name": "ipython",
    "version": 2
   },
   "file_extension": ".py",
   "mimetype": "text/x-python",
   "name": "python",
   "nbconvert_exporter": "python",
   "pygments_lexer": "ipython2",
   "version": "2.7.6"
  }
 },
 "nbformat": 4,
 "nbformat_minor": 0
}
